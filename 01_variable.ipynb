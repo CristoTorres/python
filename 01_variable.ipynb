{
  "nbformat": 4,
  "nbformat_minor": 0,
  "metadata": {
    "colab": {
      "provenance": []
    },
    "kernelspec": {
      "name": "python3",
      "display_name": "Python 3"
    },
    "language_info": {
      "name": "python"
    }
  },
  "cells": [
    {
      "cell_type": "code",
      "execution_count": null,
      "metadata": {
        "id": "NQ1WgttFsmX8"
      },
      "outputs": [],
      "source": [
        "promer programaPytho.ipynb\n",
        "#Este simbolo se utiliza para comentarios al codigo\n",
        "print(\"hola grupo 230 de la carrera tecnica de programacion\")\n",
        "#Como consultar el tipo de dato\n",
        "print(type(\"Soy un dato str\"))#tipo str\n",
        "print(type(\"5\"))#tipo int\n",
        "print(type(\"1.5\"))#tipo float\n",
        "print(type(3+1))#tipo complex\n",
        "print(type(trae))#tipo bool\n",
        "print(type(print(\"Mi cadena de texto\")))#tipo noneType\n",
        "\n",
        "###variables###\n",
        "\n",
        "my_string_variable=\"My string variable\"\n",
        "print(my_string_variable)\n",
        "\n",
        "my_int_variable=5\n",
        "print(my_int_variable)\n",
        "\n",
        "my_int_to_str_variable=str(my_int_variable)\n",
        "print(my_int_to_str_variable)\n",
        "print(typr(my_int_to_str_variable))\n",
        "\n",
        "my_bool_variable=False\n",
        "print(my_bool_variable)\n",
        "\n",
        "#Concatenacion de variables en un print\n",
        "print(my_string_variable,my_int_to_str_variable)\n",
        "print(\"Este es el valor de\")\n",
        "\n",
        "#Algunas funciones del sistema\n",
        "print(len(my_string_variable))# le sirve para contar los caracteres de la variable\n",
        "\n",
        "#Variables en una sola linea. Cuidado de abusar de la sintaxis\n",
        "name, surname, alias, age=\"Keyla\",\"Garcia Delgado\","
      ]
    }
  ]
}